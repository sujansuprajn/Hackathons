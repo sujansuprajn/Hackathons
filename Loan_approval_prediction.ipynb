{
  "nbformat": 4,
  "nbformat_minor": 0,
  "metadata": {
    "colab": {
      "provenance": [],
      "authorship_tag": "ABX9TyMKhCLH+nizhu/YrUfrmkuk",
      "include_colab_link": true
    },
    "kernelspec": {
      "name": "python3",
      "display_name": "Python 3"
    },
    "language_info": {
      "name": "python"
    }
  },
  "cells": [
    {
      "cell_type": "markdown",
      "metadata": {
        "id": "view-in-github",
        "colab_type": "text"
      },
      "source": [
        "<a href=\"https://colab.research.google.com/github/sujansuprajn/Hackathons/blob/main/Loan_approval_prediction.ipynb\" target=\"_parent\"><img src=\"https://colab.research.google.com/assets/colab-badge.svg\" alt=\"Open In Colab\"/></a>"
      ]
    },
    {
      "cell_type": "code",
      "execution_count": 2,
      "metadata": {
        "colab": {
          "base_uri": "https://localhost:8080/"
        },
        "id": "AtN69HGQ5AUo",
        "outputId": "0fea1556-2556-4a02-bb1f-1cc6027328ac"
      },
      "outputs": [
        {
          "output_type": "stream",
          "name": "stdout",
          "text": [
            "Mounted at /content/drive\n"
          ]
        }
      ],
      "source": [
        "import os\n",
        "from google.colab import drive\n",
        "\n",
        "# Check if Google Drive is already mounted\n",
        "if not os.path.exists('/content/drive/MyDrive/kaggle.json'):\n",
        "    drive.mount('/content/drive')\n",
        "\n",
        "# Setup Kaggle API key configuration\n",
        "kaggle_path = os.path.expanduser('~/.kaggle/kaggle.json')\n",
        "if not os.path.exists(kaggle_path):\n",
        "    os.makedirs(os.path.dirname(kaggle_path), exist_ok=True)\n",
        "    !cp /content/drive/MyDrive/kaggle.json ~/.kaggle/\n",
        "    !chmod 600 ~/.kaggle/kaggle.json\n",
        "else:\n",
        "    print(\"Kaggle configuration already set up.\")"
      ]
    },
    {
      "cell_type": "code",
      "source": [
        "#dataset download\n",
        "!kaggle competitions download -c playground-series-s4e10\n",
        "\n",
        "#unzip\n",
        "!unzip playground-series-s4e10.zip\n",
        "!kaggle datasets download -d chilledwanker/loan-approval-prediction\n",
        "!unzip loan-approval-prediction.zip"
      ],
      "metadata": {
        "colab": {
          "base_uri": "https://localhost:8080/"
        },
        "id": "zWqoUd645ORU",
        "outputId": "281b1600-28e0-4952-dc99-5c950716b126"
      },
      "execution_count": 3,
      "outputs": [
        {
          "output_type": "stream",
          "name": "stdout",
          "text": [
            "Downloading playground-series-s4e10.zip to /content\n",
            "\r  0% 0.00/1.45M [00:00<?, ?B/s]\n",
            "\r100% 1.45M/1.45M [00:00<00:00, 165MB/s]\n",
            "Archive:  playground-series-s4e10.zip\n",
            "  inflating: sample_submission.csv   \n",
            "  inflating: test.csv                \n",
            "  inflating: train.csv               \n",
            "Dataset URL: https://www.kaggle.com/datasets/chilledwanker/loan-approval-prediction\n",
            "License(s): apache-2.0\n",
            "Downloading loan-approval-prediction.zip to /content\n",
            "  0% 0.00/368k [00:00<?, ?B/s]\n",
            "100% 368k/368k [00:00<00:00, 82.1MB/s]\n",
            "Archive:  loan-approval-prediction.zip\n",
            "  inflating: credit_risk_dataset.csv  \n"
          ]
        }
      ]
    },
    {
      "cell_type": "code",
      "source": [
        "#importing libraries\n",
        "\n",
        "import pandas as pd\n",
        "import numpy as np\n",
        "import matplotlib.pyplot as plt\n",
        "import seaborn as sns\n",
        "\n",
        "from sklearn.model_selection import train_test_split\n",
        "from sklearn.metrics import classification_report, confusion_matrix\n",
        "from sklearn.metrics import roc_auc_score, roc_curve\n",
        "from sklearn.impute import SimpleImputer\n",
        "from sklearn.compose import ColumnTransformer\n",
        "from sklearn.pipeline import Pipeline\n",
        "from sklearn.preprocessing import OneHotEncoder\n",
        "from xgboost import XGBClassifier\n",
        "from imblearn.under_sampling import RandomUnderSampler"
      ],
      "metadata": {
        "id": "i3kw8o7q5V5f"
      },
      "execution_count": 5,
      "outputs": []
    },
    {
      "cell_type": "code",
      "source": [
        "df = pd.read_csv('train.csv', index_col='id')\n",
        "X_test_full = pd.read_csv('test.csv', index_col='id')"
      ],
      "metadata": {
        "id": "Elpr5yh859GJ"
      },
      "execution_count": 6,
      "outputs": []
    },
    {
      "cell_type": "code",
      "source": [
        "original = pd.read_csv('credit_risk_dataset.csv')\n",
        "X= pd.concat([df, original],ignore_index=True)\n",
        "print(\"shape of the data :\",X.shape)"
      ],
      "metadata": {
        "colab": {
          "base_uri": "https://localhost:8080/"
        },
        "id": "2WAiWRBxXu9V",
        "outputId": "74a85246-8e34-4f00-d3fb-07e0ce98a894"
      },
      "execution_count": 7,
      "outputs": [
        {
          "output_type": "stream",
          "name": "stdout",
          "text": [
            "shape of the data : (91226, 12)\n"
          ]
        }
      ]
    },
    {
      "cell_type": "code",
      "source": [
        "#removing rows with missing taret\n",
        "X.dropna(axis=0, subset=['loan_status'], inplace=True)\n",
        "y = X.loan_status\n",
        "\n",
        "X.drop(['loan_status','loan_amnt','cb_person_default_on_file','person_age'],axis=1, inplace=True)\n",
        "X['loan_percent_income'] = X['loan_percent_income'] * 100\n",
        "\n",
        "X_test_full.drop(['loan_amnt','cb_person_default_on_file','person_age'],axis=1, inplace=True)\n",
        "X_test_full['loan_percent_income'] = X_test_full['loan_percent_income'] * 100"
      ],
      "metadata": {
        "id": "KvOM2UxoIg8j"
      },
      "execution_count": 8,
      "outputs": []
    },
    {
      "cell_type": "code",
      "source": [
        "#break off validation data from training data\n",
        "X_train_full, X_valid_full, y_train, y_valid = train_test_split(X,y, train_size = 0.8, test_size = 0.2, random_state=0)\n",
        "\n",
        "# categorical cols with low cardinality\n",
        "cat_cols = [cname for cname in X_train_full.columns\n",
        "            if X_train_full[cname].dtype == 'object' and\n",
        "            X_train_full[cname].nunique() < 10]\n",
        "\n",
        "# numerical cols\n",
        "num_cols = [cname for cname in X_train_full.columns\n",
        "            if X_train_full[cname].dtype in ['int64','float64']]\n",
        "\n",
        "\n",
        "# keeping only selected cols\n",
        "my_cols = cat_cols + num_cols\n",
        "X_train = X_train_full[my_cols].copy()\n",
        "X_valid = X_valid_full[my_cols].copy()\n",
        "X_test = X_test_full[my_cols].copy()\n",
        "\n",
        "for col in cat_cols:\n",
        "    X_train[col] = X_train[col].astype('category')\n",
        "    X_valid[col] = X_valid[col].astype('category')\n",
        "    X_test[col] = X_test[col].astype('category')"
      ],
      "metadata": {
        "id": "EmBqpoH96FT3"
      },
      "execution_count": 9,
      "outputs": []
    },
    {
      "cell_type": "code",
      "source": [
        "my_cols"
      ],
      "metadata": {
        "colab": {
          "base_uri": "https://localhost:8080/"
        },
        "id": "b7CsUhExNiMS",
        "outputId": "cf5d2477-c02e-40d6-8df5-276d1dd8d700"
      },
      "execution_count": 10,
      "outputs": [
        {
          "output_type": "execute_result",
          "data": {
            "text/plain": [
              "['person_home_ownership',\n",
              " 'loan_intent',\n",
              " 'loan_grade',\n",
              " 'person_income',\n",
              " 'person_emp_length',\n",
              " 'loan_int_rate',\n",
              " 'loan_percent_income',\n",
              " 'cb_person_cred_hist_length']"
            ]
          },
          "metadata": {},
          "execution_count": 10
        }
      ]
    },
    {
      "cell_type": "markdown",
      "source": [
        "PreProcessing With Pipeline"
      ],
      "metadata": {
        "id": "otserET4RM1D"
      }
    },
    {
      "cell_type": "code",
      "source": [
        "# preprocessing numerical data\n",
        "numerical_transformer = SimpleImputer(strategy='median')\n",
        "\n",
        "# preprocessing categorical data\n",
        "categorical_transformer = Pipeline(steps=[\n",
        "    ('imputer', SimpleImputer(strategy='constant', fill_value = 'missing')),\n",
        "    ('onehot', OneHotEncoder(handle_unknown='ignore', sparse_output=False))\n",
        "])\n",
        "\n",
        "# bundle preprocessing for numerical and categorical data\n",
        "preprocessor = ColumnTransformer(\n",
        "    transformers=[\n",
        "        ('num', numerical_transformer, num_cols),\n",
        "        ('cat', categorical_transformer, cat_cols)\n",
        "   ])\n",
        "\n",
        "\n",
        "model = XGBClassifier(\n",
        "    max_depth=3,\n",
        "    learning_rate=0.08683740317846539,\n",
        "    n_estimators=961,\n",
        "    min_child_weight=3,\n",
        "    random_state=0,\n",
        "    enable_categorical=True,\n",
        "    gamma=0.5,\n",
        "    subsample=0.9292131415430409,\n",
        "    scale_pos_weight=6.971333166633001,\n",
        "    early_stopping_rounds=10,\n",
        "    colsample_bytree= 0.90987893726981,\n",
        "    reg_alpha=0.8570404246557465,\n",
        "    reg_lambda=5.995860925165919e-05)\n",
        "\n",
        "#Best parameters: {'max_depth': 3, 'learning_rate': 0.08683740317846539, 'n_estimators': 961, 'subsample': 0.9292131415430409, 'colsample_bytree': 0.90987893726981, 'scale_pos_weight': 6.971333166633001, 'lambda': 5.995860925165919e-05, 'alpha': 0.8570404246557465}\n",
        "#Best ROC AUC score: 0.9561823463359602\n",
        "#earlier depth6, learning_rate 0.01, estimators 1000, scaloe pos wieth 5, alpha= 0.5"
      ],
      "metadata": {
        "id": "yDkKKYlO-FBj"
      },
      "execution_count": 16,
      "outputs": []
    },
    {
      "cell_type": "markdown",
      "source": [
        "Predicting the Target Variable"
      ],
      "metadata": {
        "id": "jefdZ4arTjZ5"
      }
    },
    {
      "cell_type": "code",
      "source": [
        "# Bundling preprocessing and modeling in Pipeline\n",
        "my_pipeline = Pipeline(steps=[\n",
        "    ('preprocessor', preprocessor),\n",
        "    ('model', model)\n",
        "  ])\n",
        "\n",
        "# Preprocessing of training data, fit model\n",
        "my_pipeline.fit(X_train, y_train, model__verbose=False, model__eval_set=[(preprocessor.fit_transform(X_train), y_train)])\n",
        "\n",
        "\n",
        "preds = my_pipeline.predict(X_valid)\n",
        "preds_proba = my_pipeline.predict_proba(X_valid)[:, 1]\n",
        "\n",
        "xgb_auc = roc_auc_score(y_valid, preds_proba)\n",
        "print(f\"AUC: {xgb_auc:.4f}\")\n",
        "\n",
        "print(\"Confusion Matrix:\")\n",
        "print(confusion_matrix(y_valid, preds))\n",
        "print(\"\\nClassification Report:\")\n",
        "print(classification_report(y_valid, preds))"
      ],
      "metadata": {
        "colab": {
          "base_uri": "https://localhost:8080/"
        },
        "id": "rJW4hyeRRL1v",
        "outputId": "4f15ff3e-7788-4b61-c734-05848786000a"
      },
      "execution_count": 17,
      "outputs": [
        {
          "output_type": "stream",
          "name": "stdout",
          "text": [
            "AUC: 0.9536\n",
            "Confusion Matrix:\n",
            "[[13685  1483]\n",
            " [  411  2667]]\n",
            "\n",
            "Classification Report:\n",
            "              precision    recall  f1-score   support\n",
            "\n",
            "           0       0.97      0.90      0.94     15168\n",
            "           1       0.64      0.87      0.74      3078\n",
            "\n",
            "    accuracy                           0.90     18246\n",
            "   macro avg       0.81      0.88      0.84     18246\n",
            "weighted avg       0.92      0.90      0.90     18246\n",
            "\n"
          ]
        }
      ]
    },
    {
      "cell_type": "code",
      "source": [
        "# preprocessing test data and predicting\n",
        "preds_test = my_pipeline.predict(X_test)\n",
        "output = pd.DataFrame({'id':X_test.index,\n",
        "                       'loan_status':preds_test})\n",
        "output.to_csv('submission.csv', index = False)\n",
        "\n",
        "!kaggle competitions submit -c playground-series-s4e10 -f submission.csv -m \"Message\""
      ],
      "metadata": {
        "colab": {
          "base_uri": "https://localhost:8080/"
        },
        "id": "5PozVfEBUxZN",
        "outputId": "54dd830b-5e46-49fe-850d-83be11a641aa"
      },
      "execution_count": 18,
      "outputs": [
        {
          "output_type": "stream",
          "name": "stdout",
          "text": [
            "100% 305k/305k [00:00<00:00, 711kB/s]\n",
            "400 - Bad Request - Submission not allowed:  Your team has used its daily Submission allowance (5) today, please try again tomorrow UTC (7.4 hours from now).\n"
          ]
        }
      ]
    }
  ]
}